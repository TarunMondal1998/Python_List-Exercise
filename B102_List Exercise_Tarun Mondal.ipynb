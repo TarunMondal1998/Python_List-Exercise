{
 "cells": [
  {
   "cell_type": "markdown",
   "id": "37e28283",
   "metadata": {},
   "source": [
    "# Question 1"
   ]
  },
  {
   "cell_type": "code",
   "execution_count": 1,
   "id": "71797e90",
   "metadata": {},
   "outputs": [],
   "source": [
    "question_1 = [1,7,-10,34,2,-8]"
   ]
  },
  {
   "cell_type": "code",
   "execution_count": 2,
   "id": "bf60733a",
   "metadata": {},
   "outputs": [
    {
     "name": "stdout",
     "output_type": "stream",
     "text": [
      "The sum is:  26\n"
     ]
    }
   ],
   "source": [
    "sum = 0\n",
    "for i in question_1:\n",
    "    sum = sum + i\n",
    "print(\"The sum is: \", sum)"
   ]
  },
  {
   "cell_type": "markdown",
   "id": "a8153c48",
   "metadata": {},
   "source": [
    "# Question 2"
   ]
  },
  {
   "cell_type": "code",
   "execution_count": 3,
   "id": "e886b626",
   "metadata": {},
   "outputs": [],
   "source": [
    "question_2 = [3,4,5,4,7]"
   ]
  },
  {
   "cell_type": "code",
   "execution_count": 4,
   "id": "7edafc66",
   "metadata": {},
   "outputs": [
    {
     "name": "stdout",
     "output_type": "stream",
     "text": [
      "The multiplication of all items is:  1680\n"
     ]
    }
   ],
   "source": [
    "multiplication = 1\n",
    "for i in question_2:\n",
    "    multiplication = multiplication*i\n",
    "print(\"The multiplication of all items is: \", multiplication)"
   ]
  },
  {
   "cell_type": "markdown",
   "id": "28209eb7",
   "metadata": {},
   "source": [
    "# Question 3"
   ]
  },
  {
   "cell_type": "code",
   "execution_count": 5,
   "id": "e97bbcfb",
   "metadata": {},
   "outputs": [],
   "source": [
    "question_3 = [1,7,10,34,2,8]"
   ]
  },
  {
   "cell_type": "code",
   "execution_count": 6,
   "id": "f110244a",
   "metadata": {},
   "outputs": [],
   "source": [
    "question_3.sort(reverse = True)"
   ]
  },
  {
   "cell_type": "code",
   "execution_count": 7,
   "id": "84b1221a",
   "metadata": {},
   "outputs": [
    {
     "name": "stdout",
     "output_type": "stream",
     "text": [
      "The largest number from the list is:  34\n"
     ]
    }
   ],
   "source": [
    "print (\"The largest number from the list is: \", question_3[0])"
   ]
  },
  {
   "cell_type": "markdown",
   "id": "d95dbe20",
   "metadata": {},
   "source": [
    "# Question 4"
   ]
  },
  {
   "cell_type": "code",
   "execution_count": 8,
   "id": "dc6d2d07",
   "metadata": {},
   "outputs": [],
   "source": [
    "question_4 = [51,7,10,34,2,8]"
   ]
  },
  {
   "cell_type": "code",
   "execution_count": 9,
   "id": "e3255535",
   "metadata": {},
   "outputs": [
    {
     "name": "stdout",
     "output_type": "stream",
     "text": [
      "The smallest mumber in the list is:  2\n"
     ]
    }
   ],
   "source": [
    "question_4.sort(reverse = True)\n",
    "print(\"The smallest mumber in the list is: \", question_4[-1])"
   ]
  },
  {
   "cell_type": "markdown",
   "id": "50a7ed90",
   "metadata": {},
   "source": [
    "# Question 5"
   ]
  },
  {
   "cell_type": "code",
   "execution_count": 10,
   "id": "cd0fcf7b",
   "metadata": {},
   "outputs": [],
   "source": [
    "question_5 = ['abc', 'xyz', 'aba', '1221']"
   ]
  },
  {
   "cell_type": "code",
   "execution_count": 11,
   "id": "d5590493",
   "metadata": {},
   "outputs": [],
   "source": [
    "for i in question_5:\n",
    "    for j in i:\n",
    "        if len(j)>=2 and j[-1] == j[1]:\n",
    "            i.count(j)"
   ]
  },
  {
   "cell_type": "code",
   "execution_count": 12,
   "id": "3469e5ad",
   "metadata": {},
   "outputs": [
    {
     "name": "stdout",
     "output_type": "stream",
     "text": [
      "The number of elements is:  2\n"
     ]
    }
   ],
   "source": [
    "print(\"The number of elements is: \", i.count(j))"
   ]
  },
  {
   "cell_type": "markdown",
   "id": "d1b73106",
   "metadata": {},
   "source": [
    "# Question 6"
   ]
  },
  {
   "cell_type": "code",
   "execution_count": 13,
   "id": "8202584b",
   "metadata": {},
   "outputs": [],
   "source": [
    "question_6 = [1,2,3,7,2,1,5,6,4,8,5,4]"
   ]
  },
  {
   "cell_type": "code",
   "execution_count": 14,
   "id": "b4ebe5d5",
   "metadata": {},
   "outputs": [
    {
     "name": "stdout",
     "output_type": "stream",
     "text": [
      "[1 2 3 7 5 6 4 8]\n"
     ]
    }
   ],
   "source": [
    "import pandas as pd\n",
    "\n",
    "unique_elements = pd.Series (question_6)\n",
    "print(unique_elements.unique())"
   ]
  },
  {
   "cell_type": "markdown",
   "id": "e0b1684d",
   "metadata": {},
   "source": [
    "# Question 7"
   ]
  },
  {
   "cell_type": "code",
   "execution_count": 15,
   "id": "4b40c7ed",
   "metadata": {},
   "outputs": [],
   "source": [
    "question_7 = [34,45,6,5,4,56,7]"
   ]
  },
  {
   "cell_type": "code",
   "execution_count": 16,
   "id": "b7c5a70c",
   "metadata": {},
   "outputs": [
    {
     "name": "stdout",
     "output_type": "stream",
     "text": [
      "List is Not Empty\n"
     ]
    }
   ],
   "source": [
    "if len(question_7)>0:\n",
    "    print(\"List is Not Empty\")\n",
    "else:\n",
    "    print(\"The List is Empty\")"
   ]
  },
  {
   "cell_type": "markdown",
   "id": "ac4145c7",
   "metadata": {},
   "source": [
    "# Question 8"
   ]
  },
  {
   "cell_type": "code",
   "execution_count": 17,
   "id": "d2fbf017",
   "metadata": {},
   "outputs": [],
   "source": [
    "question_8 = [10, 22, 44, 23, 4]"
   ]
  },
  {
   "cell_type": "code",
   "execution_count": 18,
   "id": "2f214fb0",
   "metadata": {},
   "outputs": [
    {
     "name": "stdout",
     "output_type": "stream",
     "text": [
      "The clone or Copy is:  [10, 22, 44, 23, 4]\n"
     ]
    }
   ],
   "source": [
    "copied = question_8.copy()\n",
    "print(\"The clone or Copy is: \", copied)"
   ]
  },
  {
   "cell_type": "markdown",
   "id": "7aa454b7",
   "metadata": {},
   "source": [
    "# Question 9"
   ]
  },
  {
   "cell_type": "code",
   "execution_count": 19,
   "id": "69f9a2be",
   "metadata": {},
   "outputs": [
    {
     "name": "stdout",
     "output_type": "stream",
     "text": [
      "['Find', 'the', 'List', 'of', 'Words', 'that', 'are', 'Longer', 'than', 'n', 'from', 'a', 'given', 'List', 'of', 'Words']\n"
     ]
    }
   ],
   "source": [
    "sentence = \"Find the List of Words that are Longer than n from a given List of Words\"\n",
    "question_9 = sentence.split()\n",
    "print(question_9)"
   ]
  },
  {
   "cell_type": "code",
   "execution_count": 20,
   "id": "2b07fbfb",
   "metadata": {},
   "outputs": [
    {
     "name": "stdout",
     "output_type": "stream",
     "text": [
      "['Words', 'Longer', 'given', 'Words']\n"
     ]
    }
   ],
   "source": [
    "new_list = []\n",
    "for i in question_9:\n",
    "    if len(i)>4:\n",
    "        new_list.append (i)\n",
    "print(new_list)"
   ]
  },
  {
   "cell_type": "markdown",
   "id": "1ad7f2ea",
   "metadata": {},
   "source": [
    "# Question 10"
   ]
  },
  {
   "cell_type": "code",
   "execution_count": 21,
   "id": "8e3679e4",
   "metadata": {},
   "outputs": [],
   "source": [
    "list_1 = [1,2,3,4,5]\n",
    "list_2 = [5,6,7,8,9]"
   ]
  },
  {
   "cell_type": "code",
   "execution_count": 22,
   "id": "5e16268b",
   "metadata": {},
   "outputs": [
    {
     "name": "stdout",
     "output_type": "stream",
     "text": [
      "The number of commen element in the list:  1\n"
     ]
    }
   ],
   "source": [
    "new_list = []\n",
    "for i in list_1:\n",
    "    for j in list_2:\n",
    "        if i == j:\n",
    "            new_list.append(i)\n",
    "print (\"The number of commen element in the list: \", len(new_list))"
   ]
  },
  {
   "cell_type": "markdown",
   "id": "c9bfe816",
   "metadata": {},
   "source": [
    "# Question 11"
   ]
  },
  {
   "cell_type": "code",
   "execution_count": 23,
   "id": "a2f022d7",
   "metadata": {},
   "outputs": [],
   "source": [
    "question_11 = [\"Cat\", \"Dog\", \"Elephant\", \"Fox\", \"Tiger\", \"Lion\", \"Ponda\"]"
   ]
  },
  {
   "cell_type": "code",
   "execution_count": 24,
   "id": "b6ac92d0",
   "metadata": {},
   "outputs": [
    {
     "name": "stdout",
     "output_type": "stream",
     "text": [
      "['Dog', 'Elephant', 'Fox', 'Ponda']\n"
     ]
    }
   ],
   "source": [
    "question_11.remove(question_11[5])\n",
    "question_11.remove(question_11[4])\n",
    "question_11.remove(question_11[0])\n",
    "print(question_11)"
   ]
  },
  {
   "cell_type": "markdown",
   "id": "950d8e20",
   "metadata": {},
   "source": [
    "# Question 12"
   ]
  },
  {
   "cell_type": "code",
   "execution_count": 25,
   "id": "44f5d4b7",
   "metadata": {},
   "outputs": [],
   "source": [
    "question_12 = [7,32,81,20,25,14,23,27]"
   ]
  },
  {
   "cell_type": "code",
   "execution_count": 26,
   "id": "93933290",
   "metadata": {},
   "outputs": [
    {
     "data": {
      "text/plain": [
       "[7, 81, 25, 23, 27]"
      ]
     },
     "execution_count": 26,
     "metadata": {},
     "output_type": "execute_result"
    }
   ],
   "source": [
    "odd_list = []\n",
    "for i in question_12:\n",
    "    if i%2 !=0:\n",
    "        odd_list.append(i)\n",
    "odd_list"
   ]
  },
  {
   "cell_type": "markdown",
   "id": "7f7c7b20",
   "metadata": {},
   "source": [
    "# Question 13"
   ]
  },
  {
   "cell_type": "code",
   "execution_count": 27,
   "id": "b932dade",
   "metadata": {},
   "outputs": [],
   "source": [
    "question_13 = [\"Cat\", \"Dog\", \"Elephant\", \"Fox\", \"Tiger\", \"Lion\", \"Ponda\"]\n",
    "specified_list = question_13.copy()"
   ]
  },
  {
   "cell_type": "code",
   "execution_count": 28,
   "id": "d4be15d8",
   "metadata": {},
   "outputs": [
    {
     "data": {
      "text/plain": [
       "['Ponda', 'Elephant', 'Cat', 'Fox', 'Lion', 'Dog', 'Tiger']"
      ]
     },
     "execution_count": 28,
     "metadata": {},
     "output_type": "execute_result"
    }
   ],
   "source": [
    "import random\n",
    "random.shuffle(specified_list)\n",
    "specified_list"
   ]
  },
  {
   "cell_type": "markdown",
   "id": "e0736e53",
   "metadata": {},
   "source": [
    "# Question 14"
   ]
  },
  {
   "cell_type": "code",
   "execution_count": 29,
   "id": "c25da83c",
   "metadata": {},
   "outputs": [
    {
     "name": "stdout",
     "output_type": "stream",
     "text": [
      "[1, 4, 9, 16, 25, 36, 49, 64, 81, 100, 121, 144, 169, 196, 225, 256, 289, 324, 361, 400, 441, 484, 529, 576, 625, 676, 729, 784, 841]\n"
     ]
    }
   ],
   "source": [
    "generated_list = []\n",
    "for i in range (1,30):\n",
    "    i = i**2\n",
    "    generated_list.append(i)\n",
    "print (generated_list)"
   ]
  },
  {
   "cell_type": "code",
   "execution_count": 30,
   "id": "6ffe89cb",
   "metadata": {},
   "outputs": [
    {
     "name": "stdout",
     "output_type": "stream",
     "text": [
      "First 5 elements:  [1, 4, 9, 16, 25]\n"
     ]
    }
   ],
   "source": [
    "first_5 = generated_list[0:5]\n",
    "print(\"First 5 elements: \", first_5)"
   ]
  },
  {
   "cell_type": "code",
   "execution_count": 31,
   "id": "2ff4b0da",
   "metadata": {},
   "outputs": [],
   "source": [
    "last_5 = generated_list[-1:-6:-1]"
   ]
  },
  {
   "cell_type": "code",
   "execution_count": 32,
   "id": "eb2d4c87",
   "metadata": {},
   "outputs": [],
   "source": [
    "last_5.sort()"
   ]
  },
  {
   "cell_type": "code",
   "execution_count": 33,
   "id": "323108c8",
   "metadata": {},
   "outputs": [
    {
     "name": "stdout",
     "output_type": "stream",
     "text": [
      "Last 5 elements:  [625, 676, 729, 784, 841]\n"
     ]
    }
   ],
   "source": [
    "print(\"Last 5 elements: \", last_5)"
   ]
  },
  {
   "cell_type": "markdown",
   "id": "82319ee5",
   "metadata": {},
   "source": [
    "# Question 15"
   ]
  },
  {
   "cell_type": "code",
   "execution_count": 34,
   "id": "26e87837",
   "metadata": {},
   "outputs": [
    {
     "name": "stdout",
     "output_type": "stream",
     "text": [
      "[(1, 2, 3), (1, 3, 2), (2, 1, 3), (2, 3, 1), (3, 1, 2), (3, 2, 1)]\n"
     ]
    }
   ],
   "source": [
    "from itertools import permutations\n",
    "question_15 = [1,2,3]\n",
    "permuted_list = []\n",
    "a = permutations(question_15)\n",
    "for i in list (a):\n",
    "    permuted_list.append(i)\n",
    "print(permuted_list)"
   ]
  },
  {
   "cell_type": "markdown",
   "id": "6201025e",
   "metadata": {},
   "source": [
    "# Question 16"
   ]
  },
  {
   "cell_type": "code",
   "execution_count": 35,
   "id": "98529fa9",
   "metadata": {},
   "outputs": [
    {
     "name": "stdout",
     "output_type": "stream",
     "text": [
      "Tutor Joes\n"
     ]
    }
   ],
   "source": [
    "question_16 = ['T','u','t','o','r',' ','J','o','e','s']\n",
    "\n",
    "String = ''\n",
    "for i in question_16:\n",
    "    String = String+i\n",
    "print(String)"
   ]
  },
  {
   "cell_type": "markdown",
   "id": "f55fdaac",
   "metadata": {},
   "source": [
    "# Question 17"
   ]
  },
  {
   "cell_type": "code",
   "execution_count": 36,
   "id": "64f86891",
   "metadata": {},
   "outputs": [],
   "source": [
    "question_17 = [20, 70, 30, 90, 10, 30, 90, 10, 80]"
   ]
  },
  {
   "cell_type": "code",
   "execution_count": 37,
   "id": "3bbdce79",
   "metadata": {},
   "outputs": [
    {
     "name": "stdout",
     "output_type": "stream",
     "text": [
      "Enter the element from the list you want to check the index: 30\n",
      "Index Number of Item: 2\n"
     ]
    }
   ],
   "source": [
    "number = int(input(\"Enter the element from the list you want to check the index: \"))\n",
    "print(\"Index Number of Item:\", question_17.index(number))"
   ]
  },
  {
   "cell_type": "markdown",
   "id": "6fca5975",
   "metadata": {},
   "source": [
    "# Question 18"
   ]
  },
  {
   "cell_type": "code",
   "execution_count": 38,
   "id": "ec7a0537",
   "metadata": {},
   "outputs": [],
   "source": [
    "question_18 = [[20,30,70],[30,90,10], [30,20], [70,90,10,80]]"
   ]
  },
  {
   "cell_type": "code",
   "execution_count": 39,
   "id": "b4beed20",
   "metadata": {},
   "outputs": [
    {
     "name": "stdout",
     "output_type": "stream",
     "text": [
      "[20, 30, 70, 30, 90, 10, 30, 20, 70, 90, 10, 80]\n"
     ]
    }
   ],
   "source": [
    "new_list = []\n",
    "for i in question_18:\n",
    "    new_list.extend(i)\n",
    "print(new_list)"
   ]
  },
  {
   "cell_type": "markdown",
   "id": "f61ba882",
   "metadata": {},
   "source": [
    "# Question 19"
   ]
  },
  {
   "cell_type": "code",
   "execution_count": 40,
   "id": "c430e04a",
   "metadata": {},
   "outputs": [
    {
     "name": "stdout",
     "output_type": "stream",
     "text": [
      "[10, 20, 30, 40, 'Cat', 'Dog', 'Lion', 'Ponda']\n"
     ]
    }
   ],
   "source": [
    "l1 = [10, 20, 30, 40]\n",
    "\n",
    "l2 = [\"Cat\", \"Dog\", \"Lion\", \"Ponda\"]\n",
    "\n",
    "l1.extend(l2)\n",
    "print(l1)"
   ]
  },
  {
   "cell_type": "markdown",
   "id": "53e82c67",
   "metadata": {},
   "source": [
    "# Question 20"
   ]
  },
  {
   "cell_type": "code",
   "execution_count": 41,
   "id": "0bcdee4f",
   "metadata": {},
   "outputs": [
    {
     "name": "stdout",
     "output_type": "stream",
     "text": [
      "Item randomly from a list:  Ponda\n"
     ]
    }
   ],
   "source": [
    "import random\n",
    "question_20 = [\"Cat\", \"Dog\", \"Elephant\", \"Fox\", \"Tiger\", \"Lion\", \"Ponda\"]\n",
    "a = random.choice(question_20)\n",
    "print(\"Item randomly from a list: \", a)"
   ]
  },
  {
   "cell_type": "markdown",
   "id": "fde32458",
   "metadata": {},
   "source": [
    "# Question 21"
   ]
  },
  {
   "cell_type": "code",
   "execution_count": 42,
   "id": "5daff6f4",
   "metadata": {},
   "outputs": [],
   "source": [
    "# Function defining\n",
    "def circularly_identical(list1, list2):\n",
    "  list1.extend(list1)\n",
    "  \n",
    "  # traversal in twice of list1\n",
    "  for i in range(len(list1)):\n",
    "  \n",
    "    # checking if sliced list1 is equal to list2\n",
    "    if list2 == list1[i: i + len(list2)]:\n",
    "  \n",
    "      return True\n",
    "  return False"
   ]
  },
  {
   "cell_type": "code",
   "execution_count": 43,
   "id": "5266efff",
   "metadata": {},
   "outputs": [
    {
     "data": {
      "text/plain": [
       "True"
      ]
     },
     "execution_count": 43,
     "metadata": {},
     "output_type": "execute_result"
    }
   ],
   "source": [
    "# Function call\n",
    "circularly_identical([8, 8, 12, 12, 8], [8, 8, 8, 12, 12])"
   ]
  },
  {
   "cell_type": "code",
   "execution_count": 44,
   "id": "accc77d1",
   "metadata": {},
   "outputs": [
    {
     "data": {
      "text/plain": [
       "False"
      ]
     },
     "execution_count": 44,
     "metadata": {},
     "output_type": "execute_result"
    }
   ],
   "source": [
    "# Function call\n",
    "circularly_identical([8, 8, 12, 12, 8], [1, 8, 8, 12, 12])"
   ]
  },
  {
   "cell_type": "markdown",
   "id": "61b6e568",
   "metadata": {},
   "source": [
    "# Question 22"
   ]
  },
  {
   "cell_type": "code",
   "execution_count": 45,
   "id": "2c8525fc",
   "metadata": {},
   "outputs": [
    {
     "name": "stdout",
     "output_type": "stream",
     "text": [
      "Second Smallest Number: 4\n"
     ]
    }
   ],
   "source": [
    "question_22 = [2,4,56,78,4,34,5,8,9]\n",
    "question_22.sort()\n",
    "print(\"Second Smallest Number:\", question_22[1])"
   ]
  },
  {
   "cell_type": "markdown",
   "id": "02aaa796",
   "metadata": {},
   "source": [
    "# Question 23"
   ]
  },
  {
   "cell_type": "code",
   "execution_count": 46,
   "id": "4743149f",
   "metadata": {},
   "outputs": [
    {
     "name": "stdout",
     "output_type": "stream",
     "text": [
      "Second Largest Number: 82\n"
     ]
    }
   ],
   "source": [
    "question_23 = [82,4,56,78,4,34,5,100,9]\n",
    "question_23.sort(reverse = True)\n",
    "print(\"Second Largest Number:\", question_23[1])"
   ]
  },
  {
   "cell_type": "markdown",
   "id": "bb642eba",
   "metadata": {},
   "source": [
    "# Question 24"
   ]
  },
  {
   "cell_type": "code",
   "execution_count": 47,
   "id": "20fd01d5",
   "metadata": {},
   "outputs": [
    {
     "name": "stdout",
     "output_type": "stream",
     "text": [
      "[82  4 10 56 78 34  5  9]\n"
     ]
    }
   ],
   "source": [
    "question_24 = [82, 4, 10, 56, 78, 4, 34, 5, 10, 9]\n",
    "List = pd.Series(question_24)\n",
    "print(List.unique())"
   ]
  },
  {
   "cell_type": "markdown",
   "id": "46a44a00",
   "metadata": {},
   "source": [
    "# Question 25"
   ]
  },
  {
   "cell_type": "code",
   "execution_count": 48,
   "id": "e577b2eb",
   "metadata": {},
   "outputs": [],
   "source": [
    "question_25 = [10, 30, 50, 10, 20, 60, 20, 60, 40, 40, 50, 50, 30]"
   ]
  },
  {
   "cell_type": "code",
   "execution_count": 49,
   "id": "8a124a75",
   "metadata": {},
   "outputs": [
    {
     "name": "stdout",
     "output_type": "stream",
     "text": [
      "{10: 2}\n",
      "{30: 2}\n",
      "{50: 3}\n",
      "{10: 2}\n",
      "{20: 2}\n",
      "{60: 2}\n",
      "{20: 2}\n",
      "{60: 2}\n",
      "{40: 2}\n",
      "{40: 2}\n",
      "{50: 3}\n",
      "{50: 3}\n",
      "{30: 2}\n"
     ]
    }
   ],
   "source": [
    "for i in question_25:\n",
    "    question_25.count(i)\n",
    "    Counter = ({i:question_25.count(i)})\n",
    "    print(Counter)"
   ]
  },
  {
   "cell_type": "markdown",
   "id": "fe9b36e9",
   "metadata": {},
   "source": [
    "## Question 26"
   ]
  },
  {
   "cell_type": "code",
   "execution_count": 50,
   "id": "4cdbd567",
   "metadata": {},
   "outputs": [],
   "source": [
    "question_26 = ['T', 'J']"
   ]
  },
  {
   "cell_type": "code",
   "execution_count": 51,
   "id": "71bb0265",
   "metadata": {},
   "outputs": [
    {
     "name": "stdout",
     "output_type": "stream",
     "text": [
      "['T', 'J', 'T', 'J', 'T', 'J', 'T', 'J', 'T', 'J', 'T', 'J', 'T', 'J', 'T', 'J', 'T', 'J']\n"
     ]
    }
   ],
   "source": [
    "for i in range (1,10):\n",
    "    new_list = question_26*i\n",
    "print(new_list)"
   ]
  },
  {
   "cell_type": "markdown",
   "id": "416d2ff8",
   "metadata": {},
   "source": [
    "# Question 27"
   ]
  },
  {
   "cell_type": "code",
   "execution_count": 52,
   "id": "cba2da5e",
   "metadata": {},
   "outputs": [],
   "source": [
    "import uuid"
   ]
  },
  {
   "cell_type": "code",
   "execution_count": 53,
   "id": "768e8c2e",
   "metadata": {},
   "outputs": [],
   "source": [
    "x = 30\n",
    "s = \"Tutor Joes\""
   ]
  },
  {
   "cell_type": "code",
   "execution_count": 54,
   "id": "4d909dc4",
   "metadata": {},
   "outputs": [
    {
     "data": {
      "text/plain": [
       "2450835795152"
      ]
     },
     "execution_count": 54,
     "metadata": {},
     "output_type": "execute_result"
    }
   ],
   "source": [
    "id(x)"
   ]
  },
  {
   "cell_type": "code",
   "execution_count": 55,
   "id": "02b42cbb",
   "metadata": {},
   "outputs": [
    {
     "data": {
      "text/plain": [
       "2451192098928"
      ]
     },
     "execution_count": 55,
     "metadata": {},
     "output_type": "execute_result"
    }
   ],
   "source": [
    "id(s)"
   ]
  },
  {
   "cell_type": "markdown",
   "id": "3a17aa6c",
   "metadata": {},
   "source": [
    "# Question 28"
   ]
  },
  {
   "cell_type": "code",
   "execution_count": 56,
   "id": "b769a473",
   "metadata": {},
   "outputs": [],
   "source": [
    "list_1 = [23,45,67,78,89,34]\n",
    "list_2 = [34,89,55,56,39,67]"
   ]
  },
  {
   "cell_type": "code",
   "execution_count": 57,
   "id": "6c1bb90c",
   "metadata": {},
   "outputs": [],
   "source": [
    "common_list = []\n",
    "for i in list_1:\n",
    "    for j in list_2:\n",
    "        if i == j:\n",
    "            common_list.append(i)"
   ]
  },
  {
   "cell_type": "code",
   "execution_count": 58,
   "id": "b8366d0e",
   "metadata": {},
   "outputs": [
    {
     "data": {
      "text/plain": [
       "[67, 89, 34]"
      ]
     },
     "execution_count": 58,
     "metadata": {},
     "output_type": "execute_result"
    }
   ],
   "source": [
    "common_list"
   ]
  },
  {
   "cell_type": "markdown",
   "id": "3f7601f3",
   "metadata": {},
   "source": [
    "# Question 29"
   ]
  },
  {
   "cell_type": "code",
   "execution_count": 59,
   "id": "a12048e5",
   "metadata": {},
   "outputs": [],
   "source": [
    "from collections import defaultdict"
   ]
  },
  {
   "cell_type": "code",
   "execution_count": 60,
   "id": "18951c6b",
   "metadata": {},
   "outputs": [
    {
     "name": "stdout",
     "output_type": "stream",
     "text": [
      "Words starting with 'c': ['cat', 'cow']\n",
      "Words starting with 'd': ['dog']\n",
      "Words starting with 't': ['tiger', 'turtle']\n",
      "Words starting with 'l': ['lion']\n",
      "Words starting with 'f': ['Fox']\n",
      "Words starting with 's': ['Shark', 'Snake']\n",
      "Words starting with 'm': ['mouse', 'monkey']\n",
      "Words starting with 'b': ['bear']\n"
     ]
    }
   ],
   "source": [
    "words = [\"cat\", \"dog\", \"cow\", \"tiger\", \"lion\", \"Fox\", \"Shark\", \"Snake\", \"turtle\", \"mouse\", \"monkey\", \"bear\"]\n",
    "\n",
    "# Create a defaultdict to hold the lists of words by their first character\n",
    "grouped_words = defaultdict(list)\n",
    "\n",
    "# Iterate through the list of words\n",
    "for word in words:\n",
    "    first_char = word[0].lower()\n",
    "    # Append the word to the list corresponding to its first character\n",
    "    grouped_words[first_char].append(word)\n",
    "grouped_words = dict(grouped_words)\n",
    "for key, value in grouped_words.items():\n",
    "    print(f\"Words starting with '{key}': {value}\")"
   ]
  },
  {
   "cell_type": "markdown",
   "id": "9fa6f7f6",
   "metadata": {},
   "source": [
    "# Question 30"
   ]
  },
  {
   "cell_type": "code",
   "execution_count": 61,
   "id": "77275435",
   "metadata": {},
   "outputs": [],
   "source": [
    "question_30 = [1,2,4,3,6,7,5,8,9,7,8,9,10]"
   ]
  },
  {
   "cell_type": "code",
   "execution_count": 62,
   "id": "a6d8a472",
   "metadata": {},
   "outputs": [
    {
     "data": {
      "text/plain": [
       "[1, 3, 7, 5, 9, 7, 9]"
      ]
     },
     "execution_count": 62,
     "metadata": {},
     "output_type": "execute_result"
    }
   ],
   "source": [
    "odds_list = []\n",
    "for i in question_30:\n",
    "    if i%2!=0:\n",
    "      odds_list.append (i)\n",
    "odds_list"
   ]
  },
  {
   "cell_type": "markdown",
   "id": "20e20f34",
   "metadata": {},
   "source": [
    "# Question 31"
   ]
  },
  {
   "cell_type": "code",
   "execution_count": 63,
   "id": "b5626f83",
   "metadata": {},
   "outputs": [],
   "source": [
    "question_31 = [10, 20, 30, 50, 80, 70, 70, 80, 10]"
   ]
  },
  {
   "cell_type": "code",
   "execution_count": 64,
   "id": "f1aa253b",
   "metadata": {},
   "outputs": [],
   "source": [
    "question_31_list= pd.Series(question_31)"
   ]
  },
  {
   "cell_type": "code",
   "execution_count": 65,
   "id": "67db3cc7",
   "metadata": {},
   "outputs": [
    {
     "name": "stdout",
     "output_type": "stream",
     "text": [
      "No of Unique Items in List: 6\n"
     ]
    }
   ],
   "source": [
    "print (\"No of Unique Items in List:\", len(question_31_list.unique()))"
   ]
  },
  {
   "cell_type": "markdown",
   "id": "a247e813",
   "metadata": {},
   "source": [
    "# Question 32"
   ]
  },
  {
   "cell_type": "code",
   "execution_count": 66,
   "id": "f05549f7",
   "metadata": {},
   "outputs": [
    {
     "name": "stdout",
     "output_type": "stream",
     "text": [
      "Duplication removal list product:  144\n"
     ]
    }
   ],
   "source": [
    "question_32 = [2, 1, 2, 4, 6, 4, 3, 2, 1]\n",
    "question_32_list= pd.Series(question_32).unique()\n",
    "question_32_list\n",
    "\n",
    "multiplication = 1\n",
    "for i in question_32_list:\n",
    "    multiplication = multiplication*i\n",
    "print(\"Duplication removal list product: \", multiplication)"
   ]
  },
  {
   "cell_type": "markdown",
   "id": "e6ff9b83",
   "metadata": {},
   "source": [
    "# Question 33"
   ]
  },
  {
   "cell_type": "code",
   "execution_count": 67,
   "id": "698c09be",
   "metadata": {},
   "outputs": [],
   "source": [
    "question_33 = [4, 6, 4, 3, 3, 4, 3, 7, 8, 8]"
   ]
  },
  {
   "cell_type": "code",
   "execution_count": 68,
   "id": "bd0f4552",
   "metadata": {},
   "outputs": [
    {
     "data": {
      "text/plain": [
       "[4, 4, 3, 3, 4, 3]"
      ]
     },
     "execution_count": 68,
     "metadata": {},
     "output_type": "execute_result"
    }
   ],
   "source": [
    "listed_elements = []\n",
    "for i in question_33:\n",
    "    if question_33.count(i)>2:\n",
    "        listed_elements.append(i)\n",
    "listed_elements"
   ]
  },
  {
   "cell_type": "markdown",
   "id": "c45b0dc4",
   "metadata": {},
   "source": [
    "# Question 34"
   ]
  },
  {
   "cell_type": "code",
   "execution_count": 69,
   "id": "99292e47",
   "metadata": {},
   "outputs": [],
   "source": [
    "question_34 = [4, 5, 6, 7, 3, 9]"
   ]
  },
  {
   "cell_type": "code",
   "execution_count": 70,
   "id": "ebe02248",
   "metadata": {},
   "outputs": [
    {
     "name": "stdout",
     "output_type": "stream",
     "text": [
      "True\n",
      "True\n",
      "True\n",
      "True\n",
      "True\n",
      "True\n"
     ]
    }
   ],
   "source": [
    "for i in question_34:\n",
    "    for j in range (1, 10):\n",
    "        if i == j:\n",
    "           print(True)"
   ]
  },
  {
   "cell_type": "markdown",
   "id": "572aeedb",
   "metadata": {},
   "source": [
    "# Question 35"
   ]
  },
  {
   "cell_type": "code",
   "execution_count": 71,
   "id": "27c9c016",
   "metadata": {},
   "outputs": [
    {
     "name": "stdout",
     "output_type": "stream",
     "text": [
      "Three Consecutive common numbers = 18, 9\n"
     ]
    }
   ],
   "source": [
    "lst = [18, 18, 18, 6, 3, 4, 9, 9, 9]\n",
    "consecutive_numbers = []\n",
    "\n",
    "# Iterate through the list, stopping at the third last element\n",
    "for i in range(len(lst) - 2):\n",
    "    # Check if the current element is equal to the next two elements\n",
    "    if lst[i] == lst[i+1] == lst[i+2]:\n",
    "        # If the number is already recorded, skip to avoid duplicates\n",
    "        if lst[i] not in consecutive_numbers:\n",
    "            consecutive_numbers.append(lst[i])\n",
    "\n",
    "# Print the results\n",
    "if consecutive_numbers:\n",
    "    print(\"Three Consecutive common numbers =\", \", \".join(map(str, consecutive_numbers)))\n",
    "else:\n",
    "    print(\"No three consecutive common numbers found.\")"
   ]
  },
  {
   "cell_type": "markdown",
   "id": "5ef028a8",
   "metadata": {},
   "source": [
    "# Question 36"
   ]
  },
  {
   "cell_type": "code",
   "execution_count": 72,
   "id": "57d24f6a",
   "metadata": {},
   "outputs": [],
   "source": [
    "question_36 = [10,20,30,20,30,400]"
   ]
  },
  {
   "cell_type": "code",
   "execution_count": 73,
   "id": "ad299e32",
   "metadata": {},
   "outputs": [
    {
     "data": {
      "text/plain": [
       "[20, 30, 30, 30, 400]"
      ]
     },
     "execution_count": 73,
     "metadata": {},
     "output_type": "execute_result"
    }
   ],
   "source": [
    "new_list = []\n",
    "for i in range (len(question_36)-1):\n",
    "    new_list.append(max(question_36[i], question_36[i + 1]))\n",
    "new_list"
   ]
  },
  {
   "cell_type": "markdown",
   "id": "517293a9",
   "metadata": {},
   "source": [
    "# Question 37"
   ]
  },
  {
   "cell_type": "code",
   "execution_count": 74,
   "id": "0861f870",
   "metadata": {},
   "outputs": [],
   "source": [
    "question_37 = [1, 2, 3]"
   ]
  },
  {
   "cell_type": "code",
   "execution_count": 75,
   "id": "e280d4d8",
   "metadata": {},
   "outputs": [
    {
     "data": {
      "text/plain": [
       "[(1, 2, 3), (1, 3, 2), (2, 1, 3), (2, 3, 1), (3, 1, 2), (3, 2, 1)]"
      ]
     },
     "execution_count": 75,
     "metadata": {},
     "output_type": "execute_result"
    }
   ],
   "source": [
    "from itertools import permutations\n",
    "possible_combination = []\n",
    "b = permutations (question_37)\n",
    "for i in list(b):\n",
    "    possible_combination.append(i)\n",
    "possible_combination"
   ]
  },
  {
   "cell_type": "markdown",
   "id": "f8ee9e65",
   "metadata": {},
   "source": [
    "# Question 38"
   ]
  },
  {
   "cell_type": "code",
   "execution_count": 76,
   "id": "f338d64b",
   "metadata": {},
   "outputs": [],
   "source": [
    "question_38 = ['Tutor Joes', ['Software', 'Computer'], ['Solution', 'Education']]"
   ]
  },
  {
   "cell_type": "code",
   "execution_count": 77,
   "id": "6723d1d2",
   "metadata": {},
   "outputs": [
    {
     "data": {
      "text/plain": [
       "[('Tutor Joes', ['Software', 'Computer'], ['Solution', 'Education']),\n",
       " ('Tutor Joes', ['Solution', 'Education'], ['Software', 'Computer']),\n",
       " (['Software', 'Computer'], 'Tutor Joes', ['Solution', 'Education']),\n",
       " (['Software', 'Computer'], ['Solution', 'Education'], 'Tutor Joes'),\n",
       " (['Solution', 'Education'], 'Tutor Joes', ['Software', 'Computer']),\n",
       " (['Solution', 'Education'], ['Software', 'Computer'], 'Tutor Joes')]"
      ]
     },
     "execution_count": 77,
     "metadata": {},
     "output_type": "execute_result"
    }
   ],
   "source": [
    "combination = []\n",
    "c = permutations (question_38)\n",
    "for i in list(c):\n",
    "    combination.append(i)\n",
    "combination"
   ]
  },
  {
   "cell_type": "markdown",
   "id": "02808a46",
   "metadata": {},
   "source": [
    "# Question 39"
   ]
  },
  {
   "cell_type": "code",
   "execution_count": 78,
   "id": "a596fbff",
   "metadata": {},
   "outputs": [],
   "source": [
    "list_1 = ['A','B','C']\n",
    "list_2 = [1,2,3]"
   ]
  },
  {
   "cell_type": "code",
   "execution_count": 79,
   "id": "a586cbc0",
   "metadata": {},
   "outputs": [
    {
     "data": {
      "text/plain": [
       "[[('A', 1), ('B', 2), ('C', 3)],\n",
       " [('A', 1), ('C', 2), ('B', 3)],\n",
       " [('B', 1), ('A', 2), ('C', 3)],\n",
       " [('B', 1), ('C', 2), ('A', 3)],\n",
       " [('C', 1), ('A', 2), ('B', 3)],\n",
       " [('C', 1), ('B', 2), ('A', 3)]]"
      ]
     },
     "execution_count": 79,
     "metadata": {},
     "output_type": "execute_result"
    }
   ],
   "source": [
    "import itertools\n",
    "from itertools import permutations\n",
    "combined_list = []\n",
    "permut = itertools.permutations(list_1, len(list_2))\n",
    "for i in list(permut):\n",
    "    zipped = zip(i, list_2)\n",
    "    combined_list.append(list(zipped))\n",
    "combined_list"
   ]
  },
  {
   "cell_type": "markdown",
   "id": "4dc9ac49",
   "metadata": {},
   "source": [
    "# Question 40"
   ]
  },
  {
   "cell_type": "code",
   "execution_count": 80,
   "id": "a53438c1",
   "metadata": {},
   "outputs": [
    {
     "data": {
      "text/plain": [
       "[3, 4, 6, 5, 1]"
      ]
     },
     "execution_count": 80,
     "metadata": {},
     "output_type": "execute_result"
    }
   ],
   "source": [
    "question_40 = [1, 3, 4, 6, 5, 1]\n",
    "question_40.remove(1)\n",
    "question_40"
   ]
  },
  {
   "cell_type": "markdown",
   "id": "9ea8091f",
   "metadata": {},
   "source": [
    "# Question 41"
   ]
  },
  {
   "cell_type": "code",
   "execution_count": 81,
   "id": "b835de6b",
   "metadata": {},
   "outputs": [],
   "source": [
    "question_41 = [ ('A', 'B', 'C', 'D'), ('B', 'C', 'C', 'I'), ('H', 'D', 'B', 'C'), ('C', 'C', 'G', 'F') ]"
   ]
  },
  {
   "cell_type": "code",
   "execution_count": 82,
   "id": "61d44b79",
   "metadata": {},
   "outputs": [
    {
     "data": {
      "text/plain": [
       "[('A', 'B', 'C', 'D'), ('H', 'D', 'B', 'C')]"
      ]
     },
     "execution_count": 82,
     "metadata": {},
     "output_type": "execute_result"
    }
   ],
   "source": [
    "new_list = []\n",
    "for i in question_41:\n",
    "    has_consecutive_duplicates = False\n",
    "    for index in range(len(i) - 1):\n",
    "        if i[index] == i[index + 1]:\n",
    "            has_consecutive_duplicates = True\n",
    "            break\n",
    "    if not has_consecutive_duplicates:\n",
    "        new_list.append(i)\n",
    "\n",
    "new_list"
   ]
  },
  {
   "cell_type": "markdown",
   "id": "df2e49e1",
   "metadata": {},
   "source": [
    "# Question 42"
   ]
  },
  {
   "cell_type": "code",
   "execution_count": 83,
   "id": "e7066677",
   "metadata": {},
   "outputs": [],
   "source": [
    "question_42_list_1 = ['Tutor Joes', 'Computer', 'Education']\n",
    "question_42_list_2 = [2, 1, 0, 1, 0, 2, 2, 0, 1, 0, 1, 2]"
   ]
  },
  {
   "cell_type": "code",
   "execution_count": 84,
   "id": "a0b0bb83",
   "metadata": {},
   "outputs": [
    {
     "name": "stdout",
     "output_type": "stream",
     "text": [
      "['Education', 'Computer', 'Tutor Joes', 'Computer', 'Tutor Joes', 'Education', 'Education', 'Tutor Joes', 'Computer', 'Tutor Joes', 'Computer', 'Education']\n"
     ]
    }
   ],
   "source": [
    "result_list = []\n",
    "\n",
    "for i in question_42_list_2:\n",
    "    if i == 2:\n",
    "        result_list.append(question_42_list_1[-1])\n",
    "    elif i == 1:\n",
    "        result_list.append(question_42_list_1[1])\n",
    "    elif i == 0:\n",
    "        result_list.append(question_42_list_1[0])\n",
    "print(result_list)"
   ]
  },
  {
   "cell_type": "markdown",
   "id": "be3ee563",
   "metadata": {},
   "source": [
    "# Question 43"
   ]
  },
  {
   "cell_type": "code",
   "execution_count": 85,
   "id": "9cecc979",
   "metadata": {},
   "outputs": [],
   "source": [
    "question_43 = [ (4, 5, 6, 5, 4), (4, 5, 3), (5, 5, 2), (3, 4, 9) ]"
   ]
  },
  {
   "cell_type": "code",
   "execution_count": 86,
   "id": "d344e941",
   "metadata": {},
   "outputs": [
    {
     "data": {
      "text/plain": [
       "[(4, 5, 6, 5, 4), (5, 5, 2)]"
      ]
     },
     "execution_count": 86,
     "metadata": {},
     "output_type": "execute_result"
    }
   ],
   "source": [
    "new_list = []\n",
    "for i in question_43:\n",
    "    if i.count(5)==2:\n",
    "        new_list.append (i)\n",
    "new_list"
   ]
  },
  {
   "cell_type": "markdown",
   "id": "4b63563b",
   "metadata": {},
   "source": [
    "# Question 44"
   ]
  },
  {
   "cell_type": "code",
   "execution_count": 87,
   "id": "dddb15ff",
   "metadata": {},
   "outputs": [],
   "source": [
    "question_44 = ['Tutor', 'joes', 'Computer', 'Education']"
   ]
  },
  {
   "cell_type": "code",
   "execution_count": 88,
   "id": "8a8d131e",
   "metadata": {},
   "outputs": [
    {
     "data": {
      "text/plain": [
       "['Tutor', 'joes', 'Software', 'Solutions']"
      ]
     },
     "execution_count": 88,
     "metadata": {},
     "output_type": "execute_result"
    }
   ],
   "source": [
    "question_44[2] = 'Software'\n",
    "question_44[3] = 'Solutions'\n",
    "question_44"
   ]
  },
  {
   "cell_type": "markdown",
   "id": "01bea55d",
   "metadata": {},
   "source": [
    "# Question 45"
   ]
  },
  {
   "cell_type": "code",
   "execution_count": 89,
   "id": "1bc33309",
   "metadata": {},
   "outputs": [],
   "source": [
    "Original_list = ['Tutor', 'joes', 'Computer', 'Education']"
   ]
  },
  {
   "cell_type": "code",
   "execution_count": 90,
   "id": "623f8c8c",
   "metadata": {},
   "outputs": [
    {
     "name": "stdout",
     "output_type": "stream",
     "text": [
      "Reverse List: ['Education', 'Computer', 'joes', 'Tutor']\n"
     ]
    }
   ],
   "source": [
    "print(\"Reverse List:\",Original_list[::-1])"
   ]
  },
  {
   "cell_type": "code",
   "execution_count": 91,
   "id": "4af7eab6",
   "metadata": {},
   "outputs": [],
   "source": [
    "Original_list = ['Tutor', 'joes', 'Computer', 'Education']"
   ]
  },
  {
   "cell_type": "markdown",
   "id": "d3ae3047",
   "metadata": {},
   "source": [
    "# Question 46"
   ]
  },
  {
   "cell_type": "code",
   "execution_count": 92,
   "id": "c432a270",
   "metadata": {},
   "outputs": [],
   "source": [
    "def find_kth_word_position(strings_list, k):\n",
    "    combined_string = ' '.join(strings_list)\n",
    "    words = combined_string.split()\n",
    "    if k <= 0 or k > len(words):\n",
    "        return \"Invalid value of K. There are only {} words in the list.\".format(len(words))\n",
    "    kth_word = words[k-1]\n",
    "    \n",
    "    position = combined_string.find(kth_word)\n",
    "    \n",
    "    return position + 1"
   ]
  },
  {
   "cell_type": "code",
   "execution_count": 93,
   "id": "d7a88175",
   "metadata": {},
   "outputs": [
    {
     "name": "stdout",
     "output_type": "stream",
     "text": [
      "Index of character at Kth position word: 7\n"
     ]
    }
   ],
   "source": [
    "strings_list = ['Tutor', 'joes', 'Computer', 'Education']\n",
    "k = 2\n",
    "position = find_kth_word_position(strings_list, k)\n",
    "\n",
    "print(\"Index of character at Kth position word:\",position)"
   ]
  },
  {
   "cell_type": "markdown",
   "id": "d4e76175",
   "metadata": {},
   "source": [
    "# Question 47"
   ]
  },
  {
   "cell_type": "code",
   "execution_count": 94,
   "id": "42a7ff5e",
   "metadata": {},
   "outputs": [],
   "source": [
    "question_47 = ['TjC', 'TjCpp', 'TjPython', 'Java']"
   ]
  },
  {
   "cell_type": "code",
   "execution_count": 95,
   "id": "0c81b15b",
   "metadata": {},
   "outputs": [
    {
     "name": "stdout",
     "output_type": "stream",
     "text": [
      "Strings count with matching frequency:  3\n"
     ]
    }
   ],
   "source": [
    "count = 0\n",
    "for i in question_47:\n",
    "    if i.startswith('Tj'):\n",
    "        count = count+1\n",
    "print (\"Strings count with matching frequency: \",count)"
   ]
  },
  {
   "cell_type": "markdown",
   "id": "74cb8da5",
   "metadata": {},
   "source": [
    "# Question 48"
   ]
  },
  {
   "cell_type": "code",
   "execution_count": 96,
   "id": "5ca1ec04",
   "metadata": {},
   "outputs": [],
   "source": [
    "# List of strings\n",
    "string_list = ['TjC', 'TjCpp', 'TjPython', 'Java', 'tj']\n",
    "prefix = 'Tj'\n",
    "result = []"
   ]
  },
  {
   "cell_type": "code",
   "execution_count": 97,
   "id": "4bdfc064",
   "metadata": {},
   "outputs": [
    {
     "name": "stdout",
     "output_type": "stream",
     "text": [
      "Split Strings: ['TjC', 'TjCpp', 'TjPython', 'Java', 'tj']\n"
     ]
    }
   ],
   "source": [
    "# Iterate through each string in the list\n",
    "for string in string_list:\n",
    "    # Split the string by the prefix\n",
    "    parts = string.split(prefix)\n",
    "    \n",
    "    # Iterate through the parts, re-adding the prefix where it was split off\n",
    "    for i, part in enumerate(parts):\n",
    "        if i > 0:\n",
    "            result.append(prefix + part)\n",
    "        else:\n",
    "            # Add the first part only if it's non-empty\n",
    "            if part:\n",
    "                result.append(part)\n",
    "\n",
    "print(\"Split Strings:\", result)"
   ]
  },
  {
   "cell_type": "markdown",
   "id": "b7dc0aaf",
   "metadata": {},
   "source": [
    "# Question 49"
   ]
  },
  {
   "cell_type": "code",
   "execution_count": 98,
   "id": "d15632b4",
   "metadata": {},
   "outputs": [],
   "source": [
    "question_49 = ['P', 'Y', 'T', 'H', 'O', 'N']\n",
    "List = []"
   ]
  },
  {
   "cell_type": "code",
   "execution_count": 99,
   "id": "6136d140",
   "metadata": {},
   "outputs": [
    {
     "data": {
      "text/plain": [
       "['@', '@', 'T', '@', '@', '@']"
      ]
     },
     "execution_count": 99,
     "metadata": {},
     "output_type": "execute_result"
    }
   ],
   "source": [
    "for i in question_49:\n",
    "    if i == 'T':\n",
    "        i = 'T'\n",
    "    else:\n",
    "        i = '@'\n",
    "    List.append(i)\n",
    "List"
   ]
  },
  {
   "cell_type": "markdown",
   "id": "1d9e24eb",
   "metadata": {},
   "source": [
    "# Question 50"
   ]
  },
  {
   "cell_type": "code",
   "execution_count": 100,
   "id": "9e2ae0d2",
   "metadata": {},
   "outputs": [],
   "source": [
    "import re"
   ]
  },
  {
   "cell_type": "code",
   "execution_count": 101,
   "id": "77fd7e95",
   "metadata": {},
   "outputs": [],
   "source": [
    "question_50 = ['TutorJoes', 'ComputerEducations']"
   ]
  },
  {
   "cell_type": "code",
   "execution_count": 102,
   "id": "ca635baf",
   "metadata": {},
   "outputs": [
    {
     "name": "stdout",
     "output_type": "stream",
     "text": [
      "Tutor Joes\n",
      "Computer Educations\n"
     ]
    }
   ],
   "source": [
    "for i in question_50:\n",
    "    spaced_string_list = re.sub(r'(?<=[a-z])(?=[A-Z])', ' ',i)\n",
    "    print(spaced_string_list)"
   ]
  }
 ],
 "metadata": {
  "kernelspec": {
   "display_name": "Python 3 (ipykernel)",
   "language": "python",
   "name": "python3"
  },
  "language_info": {
   "codemirror_mode": {
    "name": "ipython",
    "version": 3
   },
   "file_extension": ".py",
   "mimetype": "text/x-python",
   "name": "python",
   "nbconvert_exporter": "python",
   "pygments_lexer": "ipython3",
   "version": "3.9.13"
  }
 },
 "nbformat": 4,
 "nbformat_minor": 5
}
